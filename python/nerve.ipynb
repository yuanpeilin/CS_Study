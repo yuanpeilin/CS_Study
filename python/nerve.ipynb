{
  "nbformat": 4,
  "nbformat_minor": 0,
  "metadata": {
    "colab": {
      "name": "nerve.ipynb",
      "version": "0.3.2",
      "provenance": [],
      "collapsed_sections": []
    },
    "kernelspec": {
      "name": "python3",
      "display_name": "Python 3"
    },
    "accelerator": "GPU"
  },
  "cells": [
    {
      "cell_type": "code",
      "metadata": {
        "id": "8UYZFZYo5AGn",
        "colab_type": "code",
        "outputId": "efeea2bd-2e20-44a4-ca43-54e37562e75a",
        "colab": {
          "base_uri": "https://localhost:8080/",
          "height": 222
        }
      },
      "source": [
        "!apt-get install -y -qq software-properties-common python-software-properties module-init-tools\n",
        "!add-apt-repository -y ppa:alessandro-strada/ppa 2>&1 > /dev/null\n",
        "!apt-get update -qq 2>&1 > /dev/null\n",
        "!apt-get -y install -qq google-drive-ocamlfuse fuse\n",
        "from google.colab import auth\n",
        "auth.authenticate_user()\n",
        "from oauth2client.client import GoogleCredentials\n",
        "creds = GoogleCredentials.get_application_default()\n",
        "import getpass\n",
        "!google-drive-ocamlfuse -headless -id={creds.client_id} -secret={creds.client_secret} < /dev/null 2>&1 | grep URL\n",
        "vcode = getpass.getpass()\n",
        "!echo {vcode} | google-drive-ocamlfuse -headless -id={creds.client_id} -secret={creds.client_secret}"
      ],
      "execution_count": 1,
      "outputs": [
        {
          "output_type": "stream",
          "text": [
            "E: Package 'python-software-properties' has no installation candidate\n",
            "Selecting previously unselected package google-drive-ocamlfuse.\n",
            "(Reading database ... 130911 files and directories currently installed.)\n",
            "Preparing to unpack .../google-drive-ocamlfuse_0.7.3-0ubuntu3~ubuntu18.04.1_amd64.deb ...\n",
            "Unpacking google-drive-ocamlfuse (0.7.3-0ubuntu3~ubuntu18.04.1) ...\n",
            "Setting up google-drive-ocamlfuse (0.7.3-0ubuntu3~ubuntu18.04.1) ...\n",
            "Processing triggers for man-db (2.8.3-2ubuntu0.1) ...\n",
            "Please, open the following URL in a web browser: https://accounts.google.com/o/oauth2/auth?client_id=32555940559.apps.googleusercontent.com&redirect_uri=urn%3Aietf%3Awg%3Aoauth%3A2.0%3Aoob&scope=https%3A%2F%2Fwww.googleapis.com%2Fauth%2Fdrive&response_type=code&access_type=offline&approval_prompt=force\n",
            "··········\n",
            "Please, open the following URL in a web browser: https://accounts.google.com/o/oauth2/auth?client_id=32555940559.apps.googleusercontent.com&redirect_uri=urn%3Aietf%3Awg%3Aoauth%3A2.0%3Aoob&scope=https%3A%2F%2Fwww.googleapis.com%2Fauth%2Fdrive&response_type=code&access_type=offline&approval_prompt=force\n",
            "Please enter the verification code: Access token retrieved correctly.\n"
          ],
          "name": "stdout"
        }
      ]
    },
    {
      "cell_type": "code",
      "metadata": {
        "id": "Ar--5n0X3AwO",
        "colab_type": "code",
        "colab": {
          "base_uri": "https://localhost:8080/",
          "height": 50
        },
        "outputId": "b4426341-c925-40f2-be77-f6c963831c9c"
      },
      "source": [
        "# 查看初始文件夹和当前位置\n",
        "!ls\n",
        "!pwd"
      ],
      "execution_count": 2,
      "outputs": [
        {
          "output_type": "stream",
          "text": [
            "adc.json  sample_data\n",
            "/content\n"
          ],
          "name": "stdout"
        }
      ]
    },
    {
      "cell_type": "code",
      "metadata": {
        "id": "7HbKCavy-jAg",
        "colab_type": "code",
        "outputId": "f165f75b-8d86-4fdb-fed4-581057f4ebab",
        "colab": {
          "base_uri": "https://localhost:8080/",
          "height": 168
        }
      },
      "source": [
        "# 挂载谷歌云盘\n",
        "!mkdir -p drive\n",
        "!google-drive-ocamlfuse drive\n",
        "!ls\n",
        "!ls -al drive/"
      ],
      "execution_count": 3,
      "outputs": [
        {
          "output_type": "stream",
          "text": [
            "adc.json  drive  sample_data\n",
            "total 47801\n",
            "drwxr-xr-x 2 root root     4096 May 31 15:18 .\n",
            "drwxr-xr-x 1 root root     4096 May 31 15:18 ..\n",
            "drwxr-xr-x 2 root root     4096 May 31 10:46 fastai\n",
            "-r--r--r-- 1 root root 48877195 Apr 22 09:48 go-common-master.zip\n",
            "drwxr-xr-x 2 root root     4096 May 31 10:45 kaggle\n",
            "-rw-r--r-- 1 root root    45332 May 31 15:18 nerve.ipynb\n",
            "dr-xr-xr-x 2 root root     4096 May 31 15:18 .Trash\n"
          ],
          "name": "stdout"
        }
      ]
    },
    {
      "cell_type": "code",
      "metadata": {
        "id": "goxq8hqVKNlh",
        "colab_type": "code",
        "colab": {
          "base_uri": "https://localhost:8080/",
          "height": 34
        },
        "outputId": "9a980c53-3bf1-45f5-cc0c-8aa8951ef71f"
      },
      "source": [
        "from fastai.vision import *\n",
        "from fastai.metrics import error_rate\n",
        "\n",
        "import os\n",
        "import json\n",
        "import shutil\n",
        "import zipfile\n",
        "\n",
        "%reload_ext autoreload\n",
        "%autoreload 2\n",
        "%matplotlib inline\n",
        "\n",
        "root_dir = '/content/'\n",
        "base_dir = root_dir + 'pcam/'\n",
        "temp_dir = '/content/drive/'\n",
        "!mkdir -p \"{base_dir}\"\n",
        "!mkdir -p \"{temp_dir}\"\n",
        "!ls"
      ],
      "execution_count": 4,
      "outputs": [
        {
          "output_type": "stream",
          "text": [
            "adc.json  drive  pcam  sample_data\n"
          ],
          "name": "stdout"
        }
      ]
    },
    {
      "cell_type": "code",
      "metadata": {
        "id": "eR-qZ05dOnTC",
        "colab_type": "code",
        "colab": {}
      },
      "source": [
        "np.random.seed(2)"
      ],
      "execution_count": 0,
      "outputs": []
    },
    {
      "cell_type": "code",
      "metadata": {
        "id": "X0JZXnCy3pMU",
        "colab_type": "code",
        "outputId": "445a0abf-3f0e-466f-90e0-6a0c15561da0",
        "colab": {
          "base_uri": "https://localhost:8080/",
          "height": 34
        }
      },
      "source": [
        "!cat ~/.kaggle/kaggle.json"
      ],
      "execution_count": 0,
      "outputs": [
        {
          "output_type": "stream",
          "text": [
            "cat: /root/.kaggle/kaggle.json: No such file or directory\n"
          ],
          "name": "stdout"
        }
      ]
    },
    {
      "cell_type": "code",
      "metadata": {
        "id": "nqvRaezHMu3H",
        "colab_type": "code",
        "outputId": "cb431f9e-2e7a-4ea3-8fac-3177f59e6bfd",
        "colab": {
          "base_uri": "https://localhost:8080/",
          "height": 34
        }
      },
      "source": [
        "!mkdir -p ~/.kaggle\n",
        "!touch ~/.kaggle/kaggle.json\n",
        "!echo '{\"username\":\"telaluosifen\",\"key\":\"a261d8097ff161ec422d973e220f03b6\"}' > ~/.kaggle/kaggle.json\n",
        "!cat ~/.kaggle/kaggle.json"
      ],
      "execution_count": 6,
      "outputs": [
        {
          "output_type": "stream",
          "text": [
            "{\"username\":\"telaluosifen\",\"key\":\"a261d8097ff161ec422d973e220f03b6\"}\n"
          ],
          "name": "stdout"
        }
      ]
    },
    {
      "cell_type": "code",
      "metadata": {
        "id": "ugmPp5TLNEE6",
        "colab_type": "code",
        "outputId": "5dd9dac9-b368-4e25-913c-9325c5545a33",
        "colab": {
          "base_uri": "https://localhost:8080/",
          "height": 50
        }
      },
      "source": [
        "!chmod 600 ~/.kaggle/kaggle.json\n",
        "!ls -l ~/.kaggle"
      ],
      "execution_count": 7,
      "outputs": [
        {
          "output_type": "stream",
          "text": [
            "total 4\n",
            "-rw------- 1 root root 69 May 31 15:20 kaggle.json\n"
          ],
          "name": "stdout"
        }
      ]
    },
    {
      "cell_type": "code",
      "metadata": {
        "id": "Bg73_HeTPuBf",
        "colab_type": "code",
        "outputId": "933ed394-8665-4300-ce58-776b509a4230",
        "colab": {
          "base_uri": "https://localhost:8080/",
          "height": 218
        }
      },
      "source": [
        "!kaggle competitions download -c histopathologic-cancer-detection -p \"{base_dir}\" "
      ],
      "execution_count": 8,
      "outputs": [
        {
          "output_type": "stream",
          "text": [
            "Downloading sample_submission.csv.zip to /content/pcam\n",
            "\r  0% 0.00/1.33M [00:00<?, ?B/s]\n",
            "\r100% 1.33M/1.33M [00:00<00:00, 92.8MB/s]\n",
            "Downloading train_labels.csv.zip to /content/pcam\n",
            "\r  0% 0.00/5.10M [00:00<?, ?B/s]\n",
            "100% 5.10M/5.10M [00:00<00:00, 46.9MB/s]\n",
            "Downloading test.zip to /content/pcam\n",
            "100% 1.30G/1.30G [00:13<00:00, 157MB/s]\n",
            "100% 1.30G/1.30G [00:13<00:00, 107MB/s]\n",
            "Downloading train.zip to /content/pcam\n",
            "100% 4.98G/4.98G [00:58<00:00, 23.7MB/s]\n",
            "100% 4.98G/4.98G [00:58<00:00, 92.0MB/s]\n"
          ],
          "name": "stdout"
        }
      ]
    },
    {
      "cell_type": "code",
      "metadata": {
        "id": "TsV1PR1GQLBS",
        "colab_type": "code",
        "outputId": "9e4552a8-6ab7-482a-cff4-74b5f207d6c2",
        "colab": {
          "base_uri": "https://localhost:8080/",
          "height": 34
        }
      },
      "source": [
        "# unzip train file\n",
        "!mkdir -p \"{base_dir}train/\" \n",
        "dest_dir_train = Path(base_dir + 'train/')\n",
        "print(base_dir + 'train')\n",
        "train_zip = zipfile.ZipFile(base_dir + 'train.zip', 'r')\n",
        "train_zip.extractall(dest_dir_train)\n",
        "train_zip.close()"
      ],
      "execution_count": 9,
      "outputs": [
        {
          "output_type": "stream",
          "text": [
            "/content/pcam/train\n"
          ],
          "name": "stdout"
        }
      ]
    },
    {
      "cell_type": "code",
      "metadata": {
        "id": "UU0MtRirQTO3",
        "colab_type": "code",
        "colab": {
          "base_uri": "https://localhost:8080/",
          "height": 34
        },
        "outputId": "5667cf0b-d3a4-43ad-b1e0-8694490a27a4"
      },
      "source": [
        "# unzip test file\n",
        "!mkdir -p \"{base_dir}test/\"\n",
        "dest_dir_test = Path(base_dir + 'test/')\n",
        "print(base_dir + 'test')\n",
        "test_zip = zipfile.ZipFile(base_dir + 'test.zip', 'r')\n",
        "test_zip.extractall(dest_dir_test)\n",
        "test_zip.close()"
      ],
      "execution_count": 10,
      "outputs": [
        {
          "output_type": "stream",
          "text": [
            "/content/pcam/test\n"
          ],
          "name": "stdout"
        }
      ]
    },
    {
      "cell_type": "code",
      "metadata": {
        "id": "ZFkWx1jFQ8Ig",
        "colab_type": "code",
        "colab": {
          "base_uri": "https://localhost:8080/",
          "height": 34
        },
        "outputId": "b552af81-d0fd-49f7-89d2-727eb65c7e5a"
      },
      "source": [
        "# extract train label\n",
        "dest_dir_csv = Path(base_dir)\n",
        "print(base_dir + 'train_labels.csv')\n",
        "label_csv_zip = zipfile.ZipFile(base_dir + 'train_labels.csv.zip', 'r')\n",
        "label_csv_zip.extractall(dest_dir_csv)\n",
        "label_csv_zip.close()\n",
        "# !mv ./pcam/train_labels.csv ./drive"
      ],
      "execution_count": 16,
      "outputs": [
        {
          "output_type": "stream",
          "text": [
            "/content/pcam/train_labels.csv\n"
          ],
          "name": "stdout"
        }
      ]
    },
    {
      "cell_type": "code",
      "metadata": {
        "id": "BnJJ70pxUetv",
        "colab_type": "code",
        "colab": {
          "base_uri": "https://localhost:8080/",
          "height": 34
        },
        "outputId": "bf125a1f-322a-47fd-ec6c-40317f1f476c"
      },
      "source": [
        "# extract sample label\n",
        "dest_dir_csv = Path(base_dir)\n",
        "print(base_dir + 'sample_submission.csv')\n",
        "label_csv_zip = zipfile.ZipFile(base_dir + 'sample_submission.csv.zip', 'r')\n",
        "label_csv_zip.extractall(dest_dir_csv)\n",
        "label_csv_zip.close()\n",
        "# !mv ./pcam/sample_submission.csv ./drive"
      ],
      "execution_count": 17,
      "outputs": [
        {
          "output_type": "stream",
          "text": [
            "/content/pcam/sample_submission.csv\n"
          ],
          "name": "stdout"
        }
      ]
    },
    {
      "cell_type": "code",
      "metadata": {
        "id": "T2YK1IC7RJ9p",
        "colab_type": "code",
        "outputId": "a9dbae38-5d18-4b08-ad2d-5942140827cb",
        "colab": {
          "base_uri": "https://localhost:8080/",
          "height": 118
        }
      },
      "source": [
        "# check download \n",
        "path = Path(base_dir)\n",
        "path.ls()"
      ],
      "execution_count": 13,
      "outputs": [
        {
          "output_type": "execute_result",
          "data": {
            "text/plain": [
              "[PosixPath('/content/pcam/train.zip'),\n",
              " PosixPath('/content/pcam/train_labels.csv.zip'),\n",
              " PosixPath('/content/pcam/test.zip'),\n",
              " PosixPath('/content/pcam/test'),\n",
              " PosixPath('/content/pcam/train'),\n",
              " PosixPath('/content/pcam/sample_submission.csv.zip')]"
            ]
          },
          "metadata": {
            "tags": []
          },
          "execution_count": 13
        }
      ]
    },
    {
      "cell_type": "code",
      "metadata": {
        "id": "CkjtXOKwRODf",
        "colab_type": "code",
        "colab": {}
      },
      "source": [
        "tfms = get_transforms(do_flip=True, flip_vert=True)"
      ],
      "execution_count": 0,
      "outputs": []
    },
    {
      "cell_type": "code",
      "metadata": {
        "id": "arVSphCTRZG3",
        "colab_type": "code",
        "colab": {}
      },
      "source": [
        "bs = 64\n",
        "data = ImageDataBunch.from_csv(\n",
        "    base_dir,\n",
        "    ds_tfms = tfms,\n",
        "    size = 224,\n",
        "    suffix = \".tif\",\n",
        "    folder = \"train\",\n",
        "    test = \"test\",\n",
        "    csv_labels = \"train_labels.csv\",\n",
        "    bs=bs)"
      ],
      "execution_count": 0,
      "outputs": []
    },
    {
      "cell_type": "code",
      "metadata": {
        "id": "KpLYVnblRd2P",
        "colab_type": "code",
        "outputId": "4252cc27-06c1-4ad1-f0fe-e13d3d62a179",
        "colab": {
          "base_uri": "https://localhost:8080/",
          "height": 386
        }
      },
      "source": [
        "# normalise the image\n",
        "data.normalize(imagenet_stats)"
      ],
      "execution_count": 19,
      "outputs": [
        {
          "output_type": "execute_result",
          "data": {
            "text/plain": [
              "ImageDataBunch;\n",
              "\n",
              "Train: LabelList (176020 items)\n",
              "x: ImageList\n",
              "Image (3, 224, 224),Image (3, 224, 224),Image (3, 224, 224),Image (3, 224, 224),Image (3, 224, 224)\n",
              "y: CategoryList\n",
              "1,0,0,1,1\n",
              "Path: /content/pcam;\n",
              "\n",
              "Valid: LabelList (44005 items)\n",
              "x: ImageList\n",
              "Image (3, 224, 224),Image (3, 224, 224),Image (3, 224, 224),Image (3, 224, 224),Image (3, 224, 224)\n",
              "y: CategoryList\n",
              "0,0,1,1,1\n",
              "Path: /content/pcam;\n",
              "\n",
              "Test: LabelList (57458 items)\n",
              "x: ImageList\n",
              "Image (3, 224, 224),Image (3, 224, 224),Image (3, 224, 224),Image (3, 224, 224),Image (3, 224, 224)\n",
              "y: EmptyLabelList\n",
              ",,,,\n",
              "Path: /content/pcam"
            ]
          },
          "metadata": {
            "tags": []
          },
          "execution_count": 19
        }
      ]
    },
    {
      "cell_type": "code",
      "metadata": {
        "id": "OuboOTwKRhfJ",
        "colab_type": "code",
        "outputId": "35f1bc7b-4171-4f40-81a9-00f2ba503df5",
        "colab": {
          "base_uri": "https://localhost:8080/",
          "height": 50
        }
      },
      "source": [
        "learn = cnn_learner(data, models.resnet50, metrics=error_rate, callback_fns=ShowGraph).to_fp16()"
      ],
      "execution_count": 20,
      "outputs": [
        {
          "output_type": "stream",
          "text": [
            "Downloading: \"https://download.pytorch.org/models/resnet50-19c8e357.pth\" to /root/.cache/torch/checkpoints/resnet50-19c8e357.pth\n",
            "100%|██████████| 102502400/102502400 [00:05<00:00, 17631820.12it/s]\n"
          ],
          "name": "stderr"
        }
      ]
    },
    {
      "cell_type": "code",
      "metadata": {
        "id": "4Vdb6Il4RlvQ",
        "colab_type": "code",
        "outputId": "15b6db25-eb5e-4fd3-f982-c6e8f4b76423",
        "colab": {
          "base_uri": "https://localhost:8080/",
          "height": 300
        }
      },
      "source": [
        "learn.lr_find()\n",
        "learn.recorder.plot()"
      ],
      "execution_count": 21,
      "outputs": [
        {
          "output_type": "display_data",
          "data": {
            "text/html": [
              ""
            ],
            "text/plain": [
              "<IPython.core.display.HTML object>"
            ]
          },
          "metadata": {
            "tags": []
          }
        },
        {
          "output_type": "stream",
          "text": [
            "LR Finder is complete, type {learner_name}.recorder.plot() to see the graph.\n"
          ],
          "name": "stdout"
        },
        {
          "output_type": "display_data",
          "data": {
            "image/png": "[encoded data removed]",
            "text/plain": [
              "<Figure size 432x288 with 1 Axes>"
            ]
          },
          "metadata": {
            "tags": []
          }
        }
      ]
    },
    {
      "cell_type": "code",
      "metadata": {
        "id": "Ovul6NtNR5tW",
        "colab_type": "code",
        "outputId": "c6d3fd9a-78f0-417f-b3f2-ef111b07c995",
        "colab": {
          "base_uri": "https://localhost:8080/",
          "height": 94
        }
      },
      "source": [
        "learn.fit_one_cycle(30,slice(1e-02))\n",
        "learn.save(base_dir + 'pcamv4-stage-1')\n",
        "!cp ./pcam/pcamv4-stage-1 ./drive"
      ],
      "execution_count": 0,
      "outputs": [
        {
          "output_type": "display_data",
          "data": {
            "text/html": [
              "\n",
              "    <div>\n",
              "        <style>\n",
              "            /* Turns off some styling */\n",
              "            progress {\n",
              "                /* gets rid of default border in Firefox and Opera. */\n",
              "                border: none;\n",
              "                /* Needs to be in here for Safari polyfill so background images work as expected. */\n",
              "                background-size: auto;\n",
              "            }\n",
              "            .progress-bar-interrupted, .progress-bar-interrupted::-webkit-progress-bar {\n",
              "                background: #F44336;\n",
              "            }\n",
              "        </style>\n",
              "      <progress value='0' class='' max='30', style='width:300px; height:20px; vertical-align: middle;'></progress>\n",
              "      0.00% [0/30 00:00<00:00]\n",
              "    </div>\n",
              "    \n",
              "<table border=\"1\" class=\"dataframe\">\n",
              "  <thead>\n",
              "    <tr style=\"text-align: left;\">\n",
              "      <th>epoch</th>\n",
              "      <th>train_loss</th>\n",
              "      <th>valid_loss</th>\n",
              "      <th>error_rate</th>\n",
              "      <th>time</th>\n",
              "    </tr>\n",
              "  </thead>\n",
              "  <tbody>\n",
              "  </tbody>\n",
              "</table><p>\n",
              "\n",
              "    <div>\n",
              "        <style>\n",
              "            /* Turns off some styling */\n",
              "            progress {\n",
              "                /* gets rid of default border in Firefox and Opera. */\n",
              "                border: none;\n",
              "                /* Needs to be in here for Safari polyfill so background images work as expected. */\n",
              "                background-size: auto;\n",
              "            }\n",
              "            .progress-bar-interrupted, .progress-bar-interrupted::-webkit-progress-bar {\n",
              "                background: #F44336;\n",
              "            }\n",
              "        </style>\n",
              "      <progress value='441' class='' max='688', style='width:300px; height:20px; vertical-align: middle;'></progress>\n",
              "      64.10% [441/688 01:47<00:59]\n",
              "    </div>\n",
              "    "
            ],
            "text/plain": [
              "<IPython.core.display.HTML object>"
            ]
          },
          "metadata": {
            "tags": []
          }
        }
      ]
    },
    {
      "cell_type": "code",
      "metadata": {
        "id": "t7bDwfA7e12h",
        "colab_type": "code",
        "colab": {}
      },
      "source": [
        "preds, y, loss = learn.get_preds(with_loss=True)\n",
        "# get accuracy\n",
        "acc = accuracy(preds, y)\n",
        "print('The accuracy is {0} %.'.format(acc*100))"
      ],
      "execution_count": 0,
      "outputs": []
    },
    {
      "cell_type": "code",
      "metadata": {
        "id": "5PH0O9rXe2x-",
        "colab_type": "code",
        "colab": {}
      },
      "source": [
        "interp = ClassificationInterpretation.form_learner(learn)\n",
        "losses, idxs = interp.top_losses()\n",
        "len(data.valid_ds)==len(losses)==len(idxs)"
      ],
      "execution_count": 0,
      "outputs": []
    },
    {
      "cell_type": "code",
      "metadata": {
        "id": "MqzQSxHoe4ju",
        "colab_type": "code",
        "colab": {}
      },
      "source": [
        "interp.plot_confusion_matrix(figsize=(7,7), dpi=60)"
      ],
      "execution_count": 0,
      "outputs": []
    },
    {
      "cell_type": "code",
      "metadata": {
        "id": "0ZYE3l0be7QA",
        "colab_type": "code",
        "colab": {}
      },
      "source": [
        "interp.plot_top_losses(16, figsize=(16,16))"
      ],
      "execution_count": 0,
      "outputs": []
    },
    {
      "cell_type": "code",
      "metadata": {
        "id": "ovzkymdFe801",
        "colab_type": "code",
        "colab": {}
      },
      "source": [
        "learn.unfreeze()\n",
        "learn.lr_find()\n",
        "learn.recorder.plot()"
      ],
      "execution_count": 0,
      "outputs": []
    },
    {
      "cell_type": "code",
      "metadata": {
        "id": "rcXeJZHme_Pk",
        "colab_type": "code",
        "colab": {}
      },
      "source": [
        "learn.fit_one_cycle(30, max_lr=slice(1e-5, 1e-4))\n",
        "learn.save(base_dir + 'pcamv4-stage-2')\n",
        "!cp ./pcam/pcamv4-stage-2 ./drive"
      ],
      "execution_count": 0,
      "outputs": []
    },
    {
      "cell_type": "code",
      "metadata": {
        "id": "DyW_dTI8fH3G",
        "colab_type": "code",
        "colab": {}
      },
      "source": [
        "preds, y, loss = learn.get_preds(with_loss=True)\n",
        "# get accuracy\n",
        "acc = accuracy(preds, y)\n",
        "print('The accuracy is {0} %.'.format(acc*100))"
      ],
      "execution_count": 0,
      "outputs": []
    },
    {
      "cell_type": "code",
      "metadata": {
        "id": "Ydf8kteOfJie",
        "colab_type": "code",
        "colab": {}
      },
      "source": [
        "interp = ClassificationInterpretation.form_learner(learn)\n",
        "losses, idxs = interp.top_losses()\n",
        "len(data.valid_ds)==len(losses)==len(idxs)"
      ],
      "execution_count": 0,
      "outputs": []
    },
    {
      "cell_type": "code",
      "metadata": {
        "id": "wmts7HLtfKym",
        "colab_type": "code",
        "colab": {}
      },
      "source": [
        "interp.plot_top_losses(16, figsize=(16,16))"
      ],
      "execution_count": 0,
      "outputs": []
    }
  ]
}